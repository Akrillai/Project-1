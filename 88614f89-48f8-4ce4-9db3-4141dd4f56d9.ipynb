{
 "cells": [
  {
   "cell_type": "markdown",
   "metadata": {},
   "source": [
    "## Commets from reviewer\n",
    "\n",
    "<span style=\"color:green\"> Hi! Congratulations on your first project :)I did a very good job! I really enjoyed your project overall, your code and your conclusions. I left my comments in the Markdown cells with green text. You don't need to make any adjustments, just wanted to share some of my thoughts with you. Good luck with the next one! :) </span>"
   ]
  },
  {
   "cell_type": "markdown",
   "metadata": {},
   "source": [
    "## Analyzing borrowers’ risk of defaulting\n",
    "\n",
    "Your project is to prepare a report for a bank’s loan division. You’ll need to find out if a customer’s marital status and number of children has an impact on whether they will default on a loan. The bank already has some data on customers’ credit worthiness.\n",
    "\n",
    "Your report will be considered when building a **credit scoring** of a potential customer. A ** credit scoring ** is used to evaluate the ability of a potential borrower to repay their loan."
   ]
  },
  {
   "cell_type": "markdown",
   "metadata": {},
   "source": [
    "### Step 1. Open the data file and have a look at the general information. "
   ]
  },
  {
   "cell_type": "code",
   "execution_count": 1,
   "metadata": {
    "scrolled": true
   },
   "outputs": [
    {
     "name": "stdout",
     "output_type": "stream",
     "text": [
      "<class 'pandas.core.frame.DataFrame'>\n",
      "RangeIndex: 21525 entries, 0 to 21524\n",
      "Data columns (total 12 columns):\n",
      "children            21525 non-null int64\n",
      "days_employed       19351 non-null float64\n",
      "dob_years           21525 non-null int64\n",
      "education           21525 non-null object\n",
      "education_id        21525 non-null int64\n",
      "family_status       21525 non-null object\n",
      "family_status_id    21525 non-null int64\n",
      "gender              21525 non-null object\n",
      "income_type         21525 non-null object\n",
      "debt                21525 non-null int64\n",
      "total_income        19351 non-null float64\n",
      "purpose             21525 non-null object\n",
      "dtypes: float64(2), int64(5), object(5)\n",
      "memory usage: 2.0+ MB\n",
      "None\n",
      " 0     14149\n",
      " 1      4818\n",
      " 2      2055\n",
      " 3       330\n",
      " 20       76\n",
      "-1        47\n",
      " 4        41\n",
      " 5         9\n",
      "Name: children, dtype: int64\n",
      "-986.927316     1\n",
      "-7026.359174    1\n",
      "-4236.274243    1\n",
      "-6620.396473    1\n",
      "-1238.560080    1\n",
      "               ..\n",
      "-2849.351119    1\n",
      "-5619.328204    1\n",
      "-448.829898     1\n",
      "-1687.038672    1\n",
      "-582.538413     1\n",
      "Name: days_employed, Length: 19351, dtype: int64\n",
      "35    617\n",
      "40    609\n",
      "41    607\n",
      "34    603\n",
      "38    598\n",
      "42    597\n",
      "33    581\n",
      "39    573\n",
      "31    560\n",
      "36    555\n",
      "44    547\n",
      "29    545\n",
      "30    540\n",
      "48    538\n",
      "37    537\n",
      "50    514\n",
      "43    513\n",
      "32    510\n",
      "49    508\n",
      "28    503\n",
      "45    497\n",
      "27    493\n",
      "56    487\n",
      "52    484\n",
      "47    480\n",
      "54    479\n",
      "46    475\n",
      "58    461\n",
      "57    460\n",
      "53    459\n",
      "51    448\n",
      "59    444\n",
      "55    443\n",
      "26    408\n",
      "60    377\n",
      "25    357\n",
      "61    355\n",
      "62    352\n",
      "63    269\n",
      "64    265\n",
      "24    264\n",
      "23    254\n",
      "65    194\n",
      "66    183\n",
      "22    183\n",
      "67    167\n",
      "21    111\n",
      "0     101\n",
      "68     99\n",
      "69     85\n",
      "70     65\n",
      "71     58\n",
      "20     51\n",
      "72     33\n",
      "19     14\n",
      "73      8\n",
      "74      6\n",
      "75      1\n",
      "Name: dob_years, dtype: int64\n",
      "secondary education    13750\n",
      "masters degree          4718\n",
      "SECONDARY EDUCATION      772\n",
      "Secondary Education      711\n",
      "bachelor degree          668\n",
      "MASTERS DEGREE           274\n",
      "Masters Degree           268\n",
      "primary education        250\n",
      "Bachelor Degree           47\n",
      "BACHELOR DEGREE           29\n",
      "PRIMARY EDUCATION         17\n",
      "Primary Education         15\n",
      "academic degree            4\n",
      "Academic Degree            1\n",
      "ACADEMIC DEGREE            1\n",
      "Name: education, dtype: int64\n",
      "1    15233\n",
      "0     5260\n",
      "2      744\n",
      "3      282\n",
      "4        6\n",
      "Name: education_id, dtype: int64\n",
      "married              12380\n",
      "civil partnership     4177\n",
      "unmarried             2813\n",
      "divorced              1195\n",
      "widow / widower        960\n",
      "Name: family_status, dtype: int64\n",
      "0    12380\n",
      "1     4177\n",
      "4     2813\n",
      "3     1195\n",
      "2      960\n",
      "Name: family_status_id, dtype: int64\n",
      "F      14236\n",
      "M       7288\n",
      "XNA        1\n",
      "Name: gender, dtype: int64\n",
      "employee                       11119\n",
      "partner                         5085\n",
      "retiree                         3856\n",
      "civil servant                   1459\n",
      "entrepreneur                       2\n",
      "unempoyed                          2\n",
      "paternity / maternity leave        1\n",
      "student                            1\n",
      "Name: income_type, dtype: int64\n",
      "0    19784\n",
      "1     1741\n",
      "Name: debt, dtype: int64\n",
      "112874.418757    1\n",
      "133912.272223    1\n",
      "182036.676828    1\n",
      "122421.963500    1\n",
      "198271.837248    1\n",
      "                ..\n",
      "133299.194693    1\n",
      "115080.782380    1\n",
      "84896.781597     1\n",
      "153838.839212    1\n",
      "150014.128510    1\n",
      "Name: total_income, Length: 19351, dtype: int64\n",
      "wedding ceremony                                 797\n",
      "having a wedding                                 777\n",
      "to have a wedding                                774\n",
      "real estate transactions                         676\n",
      "buy commercial real estate                       664\n",
      "buying property for renting out                  653\n",
      "housing transactions                             653\n",
      "transactions with the residential real estate    651\n",
      "purchase of the house                            647\n",
      "housing                                          647\n",
      "purchase of the house for my family              641\n",
      "construction of own property                     635\n",
      "property                                         634\n",
      "transactions with my real estate                 630\n",
      "building a real estate                           626\n",
      "buy real estate                                  624\n",
      "building a property                              620\n",
      "purchase of my own house                         620\n",
      "property renovation                              612\n",
      "buy residential real estate                      607\n",
      "buying my own car                                505\n",
      "going to university                              496\n",
      "car                                              495\n",
      "second-hand car purchase                         489\n",
      "to own a car                                     480\n",
      "buying a second-hand car                         479\n",
      "cars                                             478\n",
      "to buy a car                                     472\n",
      "car purchase                                     462\n",
      "supplementary education                          462\n",
      "purchase of a car                                455\n",
      "university education                             453\n",
      "to get asupplementary education                  447\n",
      "education                                        447\n",
      "getting an education                             443\n",
      "profile education                                436\n",
      "getting higher education                         426\n",
      "to become educated                               412\n",
      "Name: purpose, dtype: int64\n"
     ]
    }
   ],
   "source": [
    "import pandas as pd\n",
    "df = pd.read_csv('/datasets/credit_scoring_eng.csv')\n",
    "print(df.info())\n",
    "\n",
    "for col in df.columns:\n",
    "    print(df[col].value_counts())"
   ]
  },
  {
   "cell_type": "markdown",
   "metadata": {},
   "source": [
    "### Conclusion"
   ]
  },
  {
   "cell_type": "markdown",
   "metadata": {},
   "source": [
    "The csv file contains 12 columns of different data types, straight away we can see that columns 'days_employed', 'total_income' are missing 21525 - 19351 rows.\n",
    "\n",
    "                ### Columns.value_counts() --> warning flags: ####\n",
    "1) column - children: 47 instances of -1 and 76 instances of 20 /\n",
    "2) column - days_employed: lots of negative data \n",
    "3) column - dob_years: 101 instance of 0 years\n",
    "4) column - education: need to lowercase then easy to group\n",
    "5) column - purpose: need to lemmatize"
   ]
  },
  {
   "cell_type": "markdown",
   "metadata": {},
   "source": [
    "<span style=\"color:green\"> Nice first look at the data!"
   ]
  },
  {
   "cell_type": "markdown",
   "metadata": {},
   "source": [
    "### Step 2. Data preprocessing"
   ]
  },
  {
   "cell_type": "markdown",
   "metadata": {},
   "source": [
    "### Processing missing values"
   ]
  },
  {
   "cell_type": "code",
   "execution_count": 71,
   "metadata": {
    "scrolled": false
   },
   "outputs": [
    {
     "name": "stdout",
     "output_type": "stream",
     "text": [
      "children               0\n",
      "days_employed       2174\n",
      "dob_years              0\n",
      "education              0\n",
      "education_id           0\n",
      "family_status          0\n",
      "family_status_id       0\n",
      "gender                 0\n",
      "income_type            0\n",
      "debt                   0\n",
      "total_income        2174\n",
      "purpose                0\n",
      "dtype: int64\n",
      "children            0\n",
      "days_employed       0\n",
      "dob_years           0\n",
      "education           0\n",
      "education_id        0\n",
      "family_status       0\n",
      "family_status_id    0\n",
      "gender              0\n",
      "income_type         0\n",
      "debt                0\n",
      "total_income        0\n",
      "purpose             0\n",
      "dtype: int64\n"
     ]
    },
    {
     "name": "stderr",
     "output_type": "stream",
     "text": [
      "/opt/conda/lib/python3.7/site-packages/ipykernel_launcher.py:26: SettingWithCopyWarning: \n",
      "A value is trying to be set on a copy of a slice from a DataFrame\n",
      "\n",
      "See the caveats in the documentation: http://pandas.pydata.org/pandas-docs/stable/user_guide/indexing.html#returning-a-view-versus-a-copy\n"
     ]
    }
   ],
   "source": [
    "import pandas as pd\n",
    "df = pd.read_csv('/datasets/credit_scoring_eng.csv')\n",
    "\n",
    "\n",
    "# 1) Id columns that have missing values --> days_employed 2174 and total_income 2174\n",
    "print(df.isnull().sum())\n",
    "\n",
    "# 2) deal with days employed \n",
    "\n",
    "# --> first lets get rid of negative values, they will be replaced by a median value \n",
    "#    of the \"cleaned\" 'days_employed' employed column, also all empty values will be replaces by a median too\n",
    "# print(df['days_employed'])\n",
    "# write a function that gets rid of all negatives and empty values and then calculates statistics for that column\n",
    "\n",
    "# df_min = df[df['days_employed'] > 0]\n",
    "# print(df_min['days_employed'].count())\n",
    "\n",
    "\n",
    "# we can see that there are 15906 -ive values and 3445 +ive values!!, \n",
    "# at first, I replaced all the negative values with a median of all positive values but that resulted in clearly bad results\n",
    "# So, I decided to replace all negative values with 0, which gave results that had trends.\n",
    "\n",
    "# This function replaces all negative and empty values with replace_with input\n",
    "def column_cleaner(col_name, replace_with):\n",
    "    df_min = df[df[col_name] > 0]  # creating a column of anly +ive 'days employed'\n",
    "    df_min.dropna(subset=[col_name], inplace=True)\n",
    "    \n",
    "    if replace_with == 'mean':\n",
    "        x = int(df_min[col_name].mean()) # calculating mean of \"cleaned\" column\n",
    "    if replace_with == 'median':\n",
    "        x = int(df_min[col_name].median()) # calculating median of \"cleaned\" column\n",
    "    if replace_with == '0':\n",
    "        x = 0\n",
    "        \n",
    "    df.loc[(df[col_name] < 0), col_name]= x # replacing all negative values with x\n",
    "    df.loc[(df[col_name] == 0), col_name]= x # replacing all 0 valus with x\n",
    "    df[col_name] = df[col_name].fillna(x) # replacing all empty values with x\n",
    "    return df\n",
    "\n",
    "column_cleaner('days_employed', '0')\n",
    "\n",
    "\n",
    "# 3) deal with total income\n",
    "\n",
    "# --> we can use the column cleaner function here as well since deleting negative incomes (if they exist) is good for us\n",
    "\n",
    "column_cleaner('total_income', 'median')\n",
    "\n",
    "\n",
    "# 4) deal with children\n",
    "\n",
    "# print(df['children'].value_counts())\n",
    "\n",
    "children_good = df[(df['children'] > 0) & (df['children'] != 20)]  # creating a column of children without -1 and 20\n",
    "\n",
    "med_children = int(children_good['children'].median())\n",
    "df.loc[(df['children'] < 0), 'children']= med_children # replacing all negative values with +ive median\n",
    "df.loc[(df['children'] == 20), 'children']= med_children # replacing all 20 children with +ive median\n",
    "\n",
    "# print(df['children'].value_counts())\n",
    "\n",
    "\n",
    "# 3) deal with column - dob_years: 101 instance of 0 years\n",
    "\n",
    "column_cleaner('dob_years', 'median')\n",
    "\n",
    "\n",
    "# 4) deal with column - education: need to lowercase then easy to group\n",
    "df['education'] = df['education'].str.lower()\n",
    "\n",
    "\n",
    "# 5) deal with column - gender: remove that XNA odd value\n",
    "df = df[df['gender'] != 'XNA']\n",
    "\n",
    "\n",
    "print(df.isnull().sum())\n"
   ]
  },
  {
   "cell_type": "markdown",
   "metadata": {},
   "source": [
    "### Conclusion"
   ]
  },
  {
   "cell_type": "markdown",
   "metadata": {},
   "source": [
    "Created a function that replaces negative and missing values with a specified parameter. The two columns with missing values are total income and days employed. They may be missing for several reasons:\n",
    "1) total income is not known due to person not working \n",
    "2) total income is not known due to being self-employed / seasonal worker - hard to estimate total income\n",
    "3) days employed is not known due to person being unemployed\n",
    "4) days employed is not known due to person being part time/seaonal worker\n",
    "3) days employed is not known due to person being in education for most of his life (PhD + PostDoc).\n",
    "\n",
    "\n",
    "\n"
   ]
  },
  {
   "cell_type": "markdown",
   "metadata": {},
   "source": [
    "<span style=\"color:green\"> This is definitely one of the most complex preprocessing I've ever seen in this project! Great Job. Here are some notes (Just my thoughts that I wanna share with you, you don't have to redo anything) :      \n",
    "    1)for days_employed- just for fun turn them into years and see what happens :)                                     \n",
    "    2) for -1 and 20 in children - I personally think it's typos and should have been 1 and 2 instead. But I like how you handled it!"
   ]
  },
  {
   "cell_type": "markdown",
   "metadata": {},
   "source": [
    "### Data type replacement"
   ]
  },
  {
   "cell_type": "code",
   "execution_count": 42,
   "metadata": {},
   "outputs": [
    {
     "name": "stdout",
     "output_type": "stream",
     "text": [
      "<class 'pandas.core.frame.DataFrame'>\n",
      "Int64Index: 21524 entries, 0 to 21524\n",
      "Data columns (total 15 columns):\n",
      "children                  21524 non-null int64\n",
      "days_employed             21524 non-null int64\n",
      "dob_years                 21524 non-null int64\n",
      "education                 21524 non-null object\n",
      "education_id              21524 non-null int64\n",
      "family_status             21524 non-null object\n",
      "family_status_id          21524 non-null int64\n",
      "gender                    21524 non-null object\n",
      "income_type               21524 non-null object\n",
      "debt                      21524 non-null int64\n",
      "total_income              21524 non-null int64\n",
      "purpose                   21524 non-null object\n",
      "purpose_lemmetised        21524 non-null object\n",
      "children_category         21524 non-null object\n",
      "days_employed_category    21524 non-null object\n",
      "dtypes: int64(7), object(8)\n",
      "memory usage: 2.6+ MB\n",
      "None\n"
     ]
    }
   ],
   "source": [
    "### Replace the real number data type with the integer type.\n",
    "\n",
    "cols = ['days_employed', 'total_income', 'children']\n",
    "df[cols] = df[cols].astype('int')\n",
    "\n",
    "print(df.info())"
   ]
  },
  {
   "cell_type": "markdown",
   "metadata": {},
   "source": [
    "### Conclusion"
   ]
  },
  {
   "cell_type": "markdown",
   "metadata": {},
   "source": [
    "Changed the 3 numerical columns ['days_employed', 'total_income', 'children'] to integer type."
   ]
  },
  {
   "cell_type": "markdown",
   "metadata": {},
   "source": [
    "### Processing duplicates"
   ]
  },
  {
   "cell_type": "code",
   "execution_count": 70,
   "metadata": {},
   "outputs": [
    {
     "name": "stdout",
     "output_type": "stream",
     "text": [
      "Duplicate Rows except first occurrence based on all columns are :\n",
      "       children  days_employed  dob_years            education  education_id  \\\n",
      "2849          0              0         41  secondary education             1   \n",
      "3290          0              0         58  secondary education             1   \n",
      "4182          1              0         34       masters degree             0   \n",
      "4851          0              0         60  secondary education             1   \n",
      "5557          0              0         58  secondary education             1   \n",
      "...         ...            ...        ...                  ...           ...   \n",
      "20702         0              0         64  secondary education             1   \n",
      "21032         0              0         60  secondary education             1   \n",
      "21132         0              0         47  secondary education             1   \n",
      "21281         1              0         30       masters degree             0   \n",
      "21415         0              0         54  secondary education             1   \n",
      "\n",
      "           family_status  family_status_id gender income_type  debt  \\\n",
      "2849             married                 0      F    employee     0   \n",
      "3290   civil partnership                 1      F     retiree     0   \n",
      "4182   civil partnership                 1      F    employee     0   \n",
      "4851   civil partnership                 1      F     retiree     0   \n",
      "5557   civil partnership                 1      F     retiree     0   \n",
      "...                  ...               ...    ...         ...   ...   \n",
      "20702            married                 0      F     retiree     0   \n",
      "21032            married                 0      F     retiree     0   \n",
      "21132            married                 0      F    employee     0   \n",
      "21281            married                 0      F    employee     0   \n",
      "21415            married                 0      F     retiree     0   \n",
      "\n",
      "       total_income                              purpose   purpose_lemmetised  \\\n",
      "2849         145017  purchase of the house for my family  Estate Transactions   \n",
      "3290         145017                    to have a wedding              Wedding   \n",
      "4182         145017                     wedding ceremony              Wedding   \n",
      "4851         145017                     wedding ceremony              Wedding   \n",
      "5557         145017                    to have a wedding              Wedding   \n",
      "...             ...                                  ...                  ...   \n",
      "20702        145017              supplementary education            Education   \n",
      "21032        145017                   to become educated            Education   \n",
      "21132        145017                  property renovation  Estate Transactions   \n",
      "21281        145017           buy commercial real estate  Estate Transactions   \n",
      "21415        145017                 housing transactions  Estate Transactions   \n",
      "\n",
      "      children_category      days_employed_category dob_years_category  \\\n",
      "2849       small family  small length of employment         medium age   \n",
      "3290       small family  small length of employment         medium age   \n",
      "4182       small family  small length of employment         medium age   \n",
      "4851       small family  small length of employment         medium age   \n",
      "5557       small family  small length of employment         medium age   \n",
      "...                 ...                         ...                ...   \n",
      "20702      small family  small length of employment         medium age   \n",
      "21032      small family  small length of employment         medium age   \n",
      "21132      small family  small length of employment         medium age   \n",
      "21281      small family  small length of employment         medium age   \n",
      "21415      small family  small length of employment         medium age   \n",
      "\n",
      "      total_income_category  \n",
      "2849   medium annual income  \n",
      "3290   medium annual income  \n",
      "4182   medium annual income  \n",
      "4851   medium annual income  \n",
      "5557   medium annual income  \n",
      "...                     ...  \n",
      "20702  medium annual income  \n",
      "21032  medium annual income  \n",
      "21132  medium annual income  \n",
      "21281  medium annual income  \n",
      "21415  medium annual income  \n",
      "\n",
      "[71 rows x 17 columns]\n",
      "<class 'pandas.core.frame.DataFrame'>\n",
      "RangeIndex: 21453 entries, 0 to 21452\n",
      "Data columns (total 17 columns):\n",
      "children                  21453 non-null int64\n",
      "days_employed             21453 non-null int64\n",
      "dob_years                 21453 non-null int64\n",
      "education                 21453 non-null object\n",
      "education_id              21453 non-null int64\n",
      "family_status             21453 non-null object\n",
      "family_status_id          21453 non-null int64\n",
      "gender                    21453 non-null object\n",
      "income_type               21453 non-null object\n",
      "debt                      21453 non-null int64\n",
      "total_income              21453 non-null int64\n",
      "purpose                   21453 non-null object\n",
      "purpose_lemmetised        21453 non-null object\n",
      "children_category         21453 non-null object\n",
      "days_employed_category    21453 non-null object\n",
      "dob_years_category        21453 non-null object\n",
      "total_income_category     21453 non-null object\n",
      "dtypes: int64(7), object(10)\n",
      "memory usage: 2.8+ MB\n",
      "None\n"
     ]
    }
   ],
   "source": [
    "####   Delete duplicate data. ### \n",
    "\n",
    "# Select duplicate rows except first occurrence based on all columns\n",
    "duplicateRowsDF = df[df.duplicated()]\n",
    "print(\"Duplicate Rows except first occurrence based on all columns are :\")\n",
    "print(duplicateRowsDF)\n",
    "\n",
    "\n",
    "df = df.drop_duplicates().reset_index(drop=True)\n",
    "print(df.info())\n"
   ]
  },
  {
   "cell_type": "markdown",
   "metadata": {},
   "source": [
    "### Conclusion"
   ]
  },
  {
   "cell_type": "markdown",
   "metadata": {},
   "source": [
    "There were not many duplicates at all and data sample is large enough to drop duplicates without any worries. Hard to say where/why duplicated came from - perhaps one person making a loan application multiple times (and for the same reasons). If the loan application is made for the same reason by the same person it is unlikely that other columns will change for that - he/she will still have the same number of kids / same education,."
   ]
  },
  {
   "cell_type": "markdown",
   "metadata": {},
   "source": [
    "<span style=\"color:green\">Overall, nice job with preprocessing!"
   ]
  },
  {
   "cell_type": "markdown",
   "metadata": {},
   "source": [
    "### Lemmatization"
   ]
  },
  {
   "cell_type": "code",
   "execution_count": 16,
   "metadata": {},
   "outputs": [
    {
     "name": "stdout",
     "output_type": "stream",
     "text": [
      "['purchase of the house' 'car purchase' 'supplementary education'\n",
      " 'to have a wedding' 'housing transactions' 'education' 'having a wedding'\n",
      " 'purchase of the house for my family' 'buy real estate'\n",
      " 'buy commercial real estate' 'buy residential real estate'\n",
      " 'construction of own property' 'property' 'building a property'\n",
      " 'buying a second-hand car' 'buying my own car'\n",
      " 'transactions with the residential real estate' 'building a real estate'\n",
      " 'housing' 'transactions with my real estate' 'cars' 'to become educated'\n",
      " 'second-hand car purchase' 'getting an education' 'car'\n",
      " 'wedding ceremony' 'to get asupplementary education'\n",
      " 'purchase of my own house' 'real estate transactions'\n",
      " 'getting higher education' 'to own a car' 'purchase of a car'\n",
      " 'profile education' 'university education'\n",
      " 'buying property for renting out' 'to buy a car' 'property renovation'\n",
      " 'going to university']\n"
     ]
    }
   ],
   "source": [
    "#### Find lemmas for values in the column listing reasons for taking out a loan ####\n",
    "\n",
    "print(df['purpose'].unique())\n",
    "\n",
    "    \n",
    "def lemmitization(row):\n",
    "    if 'house' in row or 'housing' in row or 'estate' in row or 'property' in row:\n",
    "        return 'Estate Transactions'\n",
    "    \n",
    "    if 'car' in row:\n",
    "        return 'Car Purchase'\n",
    "    \n",
    "    if 'wedding' in row:\n",
    "        return 'Wedding'\n",
    "    \n",
    "    if 'education' in row or 'educated' in row or 'university' in row:\n",
    "        return 'Education'\n"
   ]
  },
  {
   "cell_type": "markdown",
   "metadata": {},
   "source": [
    "### Conclusion"
   ]
  },
  {
   "cell_type": "markdown",
   "metadata": {},
   "source": [
    "Lemmatized the unique values of the purpose column by identifying words that unite a category of interest."
   ]
  },
  {
   "cell_type": "markdown",
   "metadata": {},
   "source": [
    "### Categorizing Data"
   ]
  },
  {
   "cell_type": "code",
   "execution_count": 57,
   "metadata": {},
   "outputs": [
    {
     "name": "stdout",
     "output_type": "stream",
     "text": [
      "['Estate Transactions' 'Car Purchase' 'Education' 'Wedding']\n",
      "20667\n",
      "145017.0\n",
      "165157.14263148114\n",
      "2265604\n",
      "['big annual income' 'medium annual income' 'small annual income']\n"
     ]
    }
   ],
   "source": [
    "# categorize data by purpose\n",
    "\n",
    "\n",
    "df['purpose_lemmetised'] = df['purpose'].apply(lemmitization)\n",
    "\n",
    "print(df['purpose_lemmetised'].unique())\n",
    "\n",
    "\n",
    "# we can categorize numerical data such as children, days_employed, dob years and total income\n",
    "\n",
    "# let us categorize the 4 columns above into three categories with the following function:\n",
    "\n",
    "def categorize(number, small, medium, quantity): \n",
    "#   The function returns the children_group according to children value\n",
    "    \n",
    "    if number <= small: \n",
    "        return 'small %s' % quantity\n",
    "    if number <= medium: \n",
    "        return 'medium %s' % quantity\n",
    "    return 'big %s' % quantity\n",
    "\n",
    "df['children_category'] = df['children'].apply(categorize, args=(1,3,'family'))\n",
    "df['days_employed_category'] = df['days_employed'].apply(categorize, args=(0, 330000, 'length of employment'))\n",
    "df['dob_years_category'] = df['dob_years'].apply(categorize, args=(20, 64, 'age'))\n",
    "df['total_income_category'] = df['total_income'].apply(categorize, args=(50000, 150000, 'annual income'))\n",
    "\n"
   ]
  },
  {
   "cell_type": "markdown",
   "metadata": {},
   "source": [
    "### Conclusion"
   ]
  },
  {
   "cell_type": "markdown",
   "metadata": {},
   "source": [
    "Created a function that categorizes numerical data bases on the user's supplied cut off points."
   ]
  },
  {
   "cell_type": "markdown",
   "metadata": {},
   "source": [
    "<span style=\"color:green\"> Interesting approach to lemmatization and categorization. Not what I expected, but I like it!"
   ]
  },
  {
   "cell_type": "markdown",
   "metadata": {},
   "source": [
    "### Step 3. Answer these questions"
   ]
  },
  {
   "cell_type": "markdown",
   "metadata": {},
   "source": [
    "- Is there a relation between having kids and repaying a loan on time?"
   ]
  },
  {
   "cell_type": "code",
   "execution_count": 62,
   "metadata": {},
   "outputs": [
    {
     "data": {
      "image/png": "[encoded data removed]",
      "text/plain": [
       "<Figure size 432x288 with 1 Axes>"
      ]
     },
     "metadata": {
      "needs_background": "light"
     },
     "output_type": "display_data"
    },
    {
     "data": {
      "image/png": "[encoded data removed]",
      "text/plain": [
       "<Figure size 432x288 with 1 Axes>"
      ]
     },
     "metadata": {
      "needs_background": "light"
     },
     "output_type": "display_data"
    },
    {
     "data": {
      "image/png": "[encoded data removed]",
      "text/plain": [
       "<Figure size 432x288 with 1 Axes>"
      ]
     },
     "metadata": {
      "needs_background": "light"
     },
     "output_type": "display_data"
    }
   ],
   "source": [
    "import matplotlib.pyplot as plt\n",
    "%matplotlib inline\n",
    "\n",
    "\n",
    "columns_of_interest = ['total_income', 'debt']\n",
    "\n",
    "for i in columns_of_interest:\n",
    "    ts = df.groupby('children_category')[i].mean()\n",
    "    ts.plot(kind='bar', title = i)\n",
    "    plt.show()\n",
    "    \n",
    "\n",
    "ts = df.groupby('children_category')['total_income'].median()\n",
    "ts.plot(kind='bar', title = 'total_income')\n",
    "plt.show()\n",
    "\n",
    "\n"
   ]
  },
  {
   "cell_type": "markdown",
   "metadata": {},
   "source": [
    "### Conclusion"
   ]
  },
  {
   "cell_type": "markdown",
   "metadata": {},
   "source": [
    "First, let us assume that the two factors (that are available from the table) than influence the ability to repay the loan on time are - total income and debt. First, looking at the mean total income the picture is not clear as it appears that all 3 family sizes earn about the same, perhaps a median would tell us more as mean is distorted by a lot of rich people! Ok, so the median tells us roughly the same story although it is a bit more evident that big families (+3 kids) earn more. To me this makes sense as if you do have a big family you are probably going to have enough money to support that big family. The median total incomes for other two categories are pretty much the same. When it comes to debt, the picture becomes clearer - medium family has the highest debt ratio whilst small and big family are at a lower ratio of the same magnitude. So, to conclude - yes, having kids and the number of kids does affect the ability to repay the loan on time. The least likely (out of 3 created categories) to repay the loan on time are the medium family and big+small families are more likely to repay on time"
   ]
  },
  {
   "cell_type": "markdown",
   "metadata": {},
   "source": [
    "- Is there a relation between marital status and repaying a loan on time?\n"
   ]
  },
  {
   "cell_type": "code",
   "execution_count": 64,
   "metadata": {},
   "outputs": [
    {
     "data": {
      "image/png": "[encoded data removed]",
      "text/plain": [
       "<Figure size 432x288 with 1 Axes>"
      ]
     },
     "metadata": {
      "needs_background": "light"
     },
     "output_type": "display_data"
    },
    {
     "data": {
      "image/png": "[encoded data removed]",
      "text/plain": [
       "<Figure size 432x288 with 1 Axes>"
      ]
     },
     "metadata": {
      "needs_background": "light"
     },
     "output_type": "display_data"
    }
   ],
   "source": [
    "\n",
    "for i in columns_of_interest:\n",
    "    ts = df.groupby('family_status')[i].mean()\n",
    "    ts.plot(kind='bar', title = i)\n",
    "    plt.show()\n",
    "\n",
    "    \n",
    "    \n"
   ]
  },
  {
   "cell_type": "markdown",
   "metadata": {},
   "source": [
    "### Conclusion"
   ]
  },
  {
   "cell_type": "markdown",
   "metadata": {},
   "source": [
    "Here it is a mixed picture. \"Clear winners\" are divorced and married categories as they have the lowest debt ratio (except the widow which at the same time has the lowest total income) and are amongst the highest earners - so they will repay the loan on time, most likely out of all other categories. Then they are followed by the civil partnership and unmarried categories as they have higher debt ratio than the two previously mentioned categories though they earn about the same. So - yes, marital status and the ability to repay the loan on time are related. Divorced and married people will repay the loan most likely, followed by all other categories - who’s likelihood of repaying on time I would place on the same level."
   ]
  },
  {
   "cell_type": "markdown",
   "metadata": {},
   "source": [
    "- Is there a relation between income level and repaying a loan on time?"
   ]
  },
  {
   "cell_type": "code",
   "execution_count": 65,
   "metadata": {},
   "outputs": [
    {
     "data": {
      "image/png": "[encoded data removed]",
      "text/plain": [
       "<Figure size 432x288 with 1 Axes>"
      ]
     },
     "metadata": {
      "needs_background": "light"
     },
     "output_type": "display_data"
    },
    {
     "data": {
      "image/png": "[encoded data removed]",
      "text/plain": [
       "<Figure size 432x288 with 1 Axes>"
      ]
     },
     "metadata": {
      "needs_background": "light"
     },
     "output_type": "display_data"
    }
   ],
   "source": [
    "\n",
    "for i in columns_of_interest:\n",
    "    ts = df.groupby('total_income_category')[i].mean()\n",
    "    ts.plot(kind='bar', title = i)\n",
    "    plt.show()"
   ]
  },
  {
   "cell_type": "markdown",
   "metadata": {},
   "source": [
    "### Conclusion"
   ]
  },
  {
   "cell_type": "markdown",
   "metadata": {},
   "source": [
    "Here, the clearest relation so far - the 3 defined categories have about the same level of debt with small income group having slightly smaller debt. Thus, it all depends on the level of income. In conclusion, the more you earn the more likely you are to repay on time. Yes, small income group has the lowest debt but the ration between income level and debt is not any better than other categories due to small income of course."
   ]
  },
  {
   "cell_type": "markdown",
   "metadata": {},
   "source": [
    "- How do different loan purposes affect on-time repayment of the loan?"
   ]
  },
  {
   "cell_type": "code",
   "execution_count": 69,
   "metadata": {},
   "outputs": [
    {
     "data": {
      "image/png": "[encoded data removed]",
      "text/plain": [
       "<Figure size 432x288 with 1 Axes>"
      ]
     },
     "metadata": {
      "needs_background": "light"
     },
     "output_type": "display_data"
    },
    {
     "data": {
      "image/png": "[encoded data removed]",
      "text/plain": [
       "<Figure size 432x288 with 1 Axes>"
      ]
     },
     "metadata": {
      "needs_background": "light"
     },
     "output_type": "display_data"
    }
   ],
   "source": [
    "\n",
    "for i in columns_of_interest:\n",
    "    ts = df.groupby('purpose_lemmetised')[i].mean()\n",
    "    ts.plot(kind='bar', title = i)\n",
    "    plt.show()\n",
    "    "
   ]
  },
  {
   "cell_type": "markdown",
   "metadata": {},
   "source": [
    "### Conclusion"
   ]
  },
  {
   "cell_type": "markdown",
   "metadata": {},
   "source": [
    "The total income among all 4 categories is pretty much the same (median also does not tell us anything different) so need to decide based on debt. Here, it is clearer, people taking out loans on education and car purchase have the highest existing debt. Yes - there is relation between repaying the loan on time and reasons for taking out a loan. Those taking out a loan for wedding and estate transactions have lower existing debt ratio so are more likely to repay the loan on time as they have lower debt burden."
   ]
  },
  {
   "cell_type": "markdown",
   "metadata": {},
   "source": [
    "<span style=\"color:green\"> Very interesting aapproach! Thanks for the graph"
   ]
  },
  {
   "cell_type": "markdown",
   "metadata": {},
   "source": [
    "### Step 4. General conclusion"
   ]
  },
  {
   "cell_type": "markdown",
   "metadata": {},
   "source": [
    "General Conclusion in terms least likely loan repay:\n",
    "1) Medium family (1-3) kids are least likely to repay the loan on time.\n",
    "2) Unmarried people and civil partnerships are least likely to repay the loan on time.\n",
    "3) People with lower income are least likely to repay the loan on time even though they have lower debt than bigger earners. This is because debt/income ratio is not that much better for lower than for bigger earners.\n",
    "4) The reasons for taking out a loan can give an indication whether the loan will be repaid - the reasons which will see the loan least likely to be repaid on time are car purchase and education\n"
   ]
  },
  {
   "cell_type": "markdown",
   "metadata": {},
   "source": [
    "<span style=\"color:green\"> Great conclusion!"
   ]
  },
  {
   "cell_type": "markdown",
   "metadata": {},
   "source": [
    "### Project Readiness Checklist\n",
    "\n",
    "Put 'x' in the completed points. Then press Shift + Enter."
   ]
  },
  {
   "cell_type": "markdown",
   "metadata": {},
   "source": [
    "- [x]  file open;\n",
    "- [x]  file examined;\n",
    "- [x]  missing values defined;\n",
    "- [x]  missing values are filled;\n",
    "- [x]  an explanation of which missing value types were detected;\n",
    "- [x]  explanation for the possible causes of missing values;\n",
    "- [x]  an explanation of how the blanks are filled;\n",
    "- [x]  replaced the real data type with an integer;\n",
    "- [x]  an explanation of which method is used to change the data type and why;\n",
    "- [x]  duplicates deleted;\n",
    "- [x]  an explanation of which method is used to find and remove duplicates;\n",
    "- [x]  description of the possible reasons for the appearance of duplicates in the data;\n",
    "- [x]  highlighted lemmas in the values of the loan purpose column;\n",
    "- [x]  the lemmatization process is described;\n",
    "- [x]  data is categorized;\n",
    "- [x]  an explanation of the principle of data categorization;\n",
    "- [x]  an answer to the question \"Is there a relation between having kids and repaying a loan on time?\";\n",
    "- [x]  an answer to the question \" Is there a relation between marital status and repaying a loan on time?\";\n",
    "- [x]   an answer to the question \" Is there a relation between income level and repaying a loan on time?\";\n",
    "- [x]  an answer to the question \" How do different loan purposes affect on-time repayment of the loan?\"\n",
    "- [x]  conclusions are present on each stage;\n",
    "- [x]  a general conclusion is made."
   ]
  },
  {
   "cell_type": "code",
   "execution_count": null,
   "metadata": {},
   "outputs": [],
   "source": []
  }
 ],
 "metadata": {
  "kernelspec": {
   "display_name": "Python 3",
   "language": "python",
   "name": "python3"
  },
  "language_info": {
   "codemirror_mode": {
    "name": "ipython",
    "version": 3
   },
   "file_extension": ".py",
   "mimetype": "text/x-python",
   "name": "python",
   "nbconvert_exporter": "python",
   "pygments_lexer": "ipython3",
   "version": "3.7.6"
  }
 },
 "nbformat": 4,
 "nbformat_minor": 2
}
